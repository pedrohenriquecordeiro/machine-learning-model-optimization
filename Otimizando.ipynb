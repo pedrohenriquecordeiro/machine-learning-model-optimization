{
  "nbformat": 4,
  "nbformat_minor": 0,
  "metadata": {
    "colab": {
      "name": "Otimizando.ipynb",
      "version": "0.3.2",
      "provenance": [],
      "collapsed_sections": [],
      "toc_visible": true,
      "include_colab_link": true
    },
    "kernelspec": {
      "name": "python3",
      "display_name": "Python 3"
    }
  },
  "cells": [
    {
      "cell_type": "markdown",
      "metadata": {
        "id": "view-in-github",
        "colab_type": "text"
      },
      "source": [
        "<a href=\"https://colab.research.google.com/github/pedrohenriquecordeiro/machine-learning-model-optimization/blob/master/Otimizando.ipynb\" target=\"_parent\"><img src=\"https://colab.research.google.com/assets/colab-badge.svg\" alt=\"Open In Colab\"/></a>"
      ]
    },
    {
      "cell_type": "markdown",
      "metadata": {
        "id": "z8lJviDozZbc",
        "colab_type": "text"
      },
      "source": [
        "# Como escolher o melhor modelo"
      ]
    },
    {
      "cell_type": "markdown",
      "metadata": {
        "id": "jNyVdAedzhZs",
        "colab_type": "text"
      },
      "source": [
        "#### Download do dataset\n",
        "\n"
      ]
    },
    {
      "cell_type": "markdown",
      "metadata": {
        "id": "F0yxYbEW0E4v",
        "colab_type": "text"
      },
      "source": [
        "Cada linha dos dados representa um veículo à venda em um site fictício de vendas de automóveis. "
      ]
    },
    {
      "cell_type": "code",
      "metadata": {
        "id": "vaVDy2I4zcWU",
        "colab_type": "code",
        "outputId": "172d32aa-ede7-458b-8af2-1474ad777fe9",
        "colab": {
          "base_uri": "https://localhost:8080/",
          "height": 204
        }
      },
      "source": [
        "import pandas as pd\n",
        "\n",
        "uri = \"https://gist.githubusercontent.com/guilhermesilveira/e99a526b2e7ccc6c3b70f53db43a87d2/raw/1605fc74aa778066bf2e6695e24d53cf65f2f447/machine-learning-carros-simulacao.csv\"\n",
        "dados = pd.read_csv(uri).drop(columns=[\"Unnamed: 0\"], axis=1)\n",
        "dados.head()"
      ],
      "execution_count": 1,
      "outputs": [
        {
          "output_type": "execute_result",
          "data": {
            "text/html": [
              "<div>\n",
              "<style scoped>\n",
              "    .dataframe tbody tr th:only-of-type {\n",
              "        vertical-align: middle;\n",
              "    }\n",
              "\n",
              "    .dataframe tbody tr th {\n",
              "        vertical-align: top;\n",
              "    }\n",
              "\n",
              "    .dataframe thead th {\n",
              "        text-align: right;\n",
              "    }\n",
              "</style>\n",
              "<table border=\"1\" class=\"dataframe\">\n",
              "  <thead>\n",
              "    <tr style=\"text-align: right;\">\n",
              "      <th></th>\n",
              "      <th>preco</th>\n",
              "      <th>vendido</th>\n",
              "      <th>idade_do_modelo</th>\n",
              "      <th>km_por_ano</th>\n",
              "    </tr>\n",
              "  </thead>\n",
              "  <tbody>\n",
              "    <tr>\n",
              "      <th>0</th>\n",
              "      <td>30941.02</td>\n",
              "      <td>1</td>\n",
              "      <td>18</td>\n",
              "      <td>35085.22134</td>\n",
              "    </tr>\n",
              "    <tr>\n",
              "      <th>1</th>\n",
              "      <td>40557.96</td>\n",
              "      <td>1</td>\n",
              "      <td>20</td>\n",
              "      <td>12622.05362</td>\n",
              "    </tr>\n",
              "    <tr>\n",
              "      <th>2</th>\n",
              "      <td>89627.50</td>\n",
              "      <td>0</td>\n",
              "      <td>12</td>\n",
              "      <td>11440.79806</td>\n",
              "    </tr>\n",
              "    <tr>\n",
              "      <th>3</th>\n",
              "      <td>95276.14</td>\n",
              "      <td>0</td>\n",
              "      <td>3</td>\n",
              "      <td>43167.32682</td>\n",
              "    </tr>\n",
              "    <tr>\n",
              "      <th>4</th>\n",
              "      <td>117384.68</td>\n",
              "      <td>1</td>\n",
              "      <td>4</td>\n",
              "      <td>12770.11290</td>\n",
              "    </tr>\n",
              "  </tbody>\n",
              "</table>\n",
              "</div>"
            ],
            "text/plain": [
              "       preco  vendido  idade_do_modelo   km_por_ano\n",
              "0   30941.02        1               18  35085.22134\n",
              "1   40557.96        1               20  12622.05362\n",
              "2   89627.50        0               12  11440.79806\n",
              "3   95276.14        0                3  43167.32682\n",
              "4  117384.68        1                4  12770.11290"
            ]
          },
          "metadata": {
            "tags": []
          },
          "execution_count": 1
        }
      ]
    },
    {
      "cell_type": "markdown",
      "metadata": {
        "id": "maLTXrBJ2DgU",
        "colab_type": "text"
      },
      "source": [
        "Modifica o dataset para incluir o nome do modelo"
      ]
    },
    {
      "cell_type": "code",
      "metadata": {
        "id": "bmHA1sTJ2KQv",
        "colab_type": "code",
        "outputId": "8f270f83-b39c-4cfc-8c08-8e6bb3626980",
        "colab": {
          "base_uri": "https://localhost:8080/",
          "height": 204
        }
      },
      "source": [
        "# os nomes estão em um arquivo externo\n",
        "import pandas as pd\n",
        "carros = pd.read_csv('modelos-carro.csv')\n",
        "carros.head()\n",
        "names = []\n",
        "\n",
        "# minera os nomes do dataset de nomes\n",
        "import re\n",
        "re1 = '.*?'\t# Non-greedy match on filler\n",
        "re2 = '((?:[a-z][a-z]+))'\t# Word 1\n",
        "rg = re.compile(re1+re2,re.IGNORECASE|re.DOTALL)\n",
        "\n",
        "for index, row in carros.iterrows():\n",
        "    text = row['ID;IDMARCA;NOME']\n",
        "    m = rg.search(text)\n",
        "    if m:\n",
        "      name = m.group(1)\n",
        "      names.append(name)\n",
        "\n",
        "# mistura os nomes\n",
        "from random import shuffle\n",
        "shuffle(names)\n",
        "\n",
        "# adiciona os nomes ao dataset de carros\n",
        "import numpy as np\n",
        "# usamos uma faixa de valores para os modelos \n",
        "# serem mais organicos dentro do dataset de carros\n",
        "num_sorteados = np.clip(\n",
        "    dados.idade_do_modelo + np.random.randint(-10 ,10 + 1 , size = len(dados)),\n",
        "    0,\n",
        "    len(names))\n",
        "\n",
        "# cria lista com os carros sorteados\n",
        "carros_sorteados = [names[i] for i in num_sorteados]\n",
        "\n",
        "# cria a nova coluna\n",
        "dados['modelo'] = carros_sorteados\n",
        "dados.head()"
      ],
      "execution_count": 2,
      "outputs": [
        {
          "output_type": "execute_result",
          "data": {
            "text/html": [
              "<div>\n",
              "<style scoped>\n",
              "    .dataframe tbody tr th:only-of-type {\n",
              "        vertical-align: middle;\n",
              "    }\n",
              "\n",
              "    .dataframe tbody tr th {\n",
              "        vertical-align: top;\n",
              "    }\n",
              "\n",
              "    .dataframe thead th {\n",
              "        text-align: right;\n",
              "    }\n",
              "</style>\n",
              "<table border=\"1\" class=\"dataframe\">\n",
              "  <thead>\n",
              "    <tr style=\"text-align: right;\">\n",
              "      <th></th>\n",
              "      <th>preco</th>\n",
              "      <th>vendido</th>\n",
              "      <th>idade_do_modelo</th>\n",
              "      <th>km_por_ano</th>\n",
              "      <th>modelo</th>\n",
              "    </tr>\n",
              "  </thead>\n",
              "  <tbody>\n",
              "    <tr>\n",
              "      <th>0</th>\n",
              "      <td>30941.02</td>\n",
              "      <td>1</td>\n",
              "      <td>18</td>\n",
              "      <td>35085.22134</td>\n",
              "      <td>GRAND</td>\n",
              "    </tr>\n",
              "    <tr>\n",
              "      <th>1</th>\n",
              "      <td>40557.96</td>\n",
              "      <td>1</td>\n",
              "      <td>20</td>\n",
              "      <td>12622.05362</td>\n",
              "      <td>XL</td>\n",
              "    </tr>\n",
              "    <tr>\n",
              "      <th>2</th>\n",
              "      <td>89627.50</td>\n",
              "      <td>0</td>\n",
              "      <td>12</td>\n",
              "      <td>11440.79806</td>\n",
              "      <td>SL</td>\n",
              "    </tr>\n",
              "    <tr>\n",
              "      <th>3</th>\n",
              "      <td>95276.14</td>\n",
              "      <td>0</td>\n",
              "      <td>3</td>\n",
              "      <td>43167.32682</td>\n",
              "      <td>IBIZA</td>\n",
              "    </tr>\n",
              "    <tr>\n",
              "      <th>4</th>\n",
              "      <td>117384.68</td>\n",
              "      <td>1</td>\n",
              "      <td>4</td>\n",
              "      <td>12770.11290</td>\n",
              "      <td>CROSSFIRE</td>\n",
              "    </tr>\n",
              "  </tbody>\n",
              "</table>\n",
              "</div>"
            ],
            "text/plain": [
              "       preco  vendido  idade_do_modelo   km_por_ano     modelo\n",
              "0   30941.02        1               18  35085.22134      GRAND\n",
              "1   40557.96        1               20  12622.05362         XL\n",
              "2   89627.50        0               12  11440.79806         SL\n",
              "3   95276.14        0                3  43167.32682      IBIZA\n",
              "4  117384.68        1                4  12770.11290  CROSSFIRE"
            ]
          },
          "metadata": {
            "tags": []
          },
          "execution_count": 2
        }
      ]
    },
    {
      "cell_type": "markdown",
      "metadata": {
        "id": "imKraNLq3KEj",
        "colab_type": "text"
      },
      "source": [
        "#### Efetua a validação usando arvore de decisão"
      ]
    },
    {
      "cell_type": "code",
      "metadata": {
        "id": "x7CekyJN3QVb",
        "colab_type": "code",
        "outputId": "8724bb31-74b0-4f38-87ce-d2177208cc10",
        "colab": {
          "base_uri": "https://localhost:8080/",
          "height": 51
        }
      },
      "source": [
        "# separa os dados - caracteristicas , marcacoes\n",
        "x = dados[[\"preco\", \"idade_do_modelo\",\"km_por_ano\"]]\n",
        "y = dados[\"vendido\"]\n",
        "\n",
        "# fixa o parametro de aleatoriedade\n",
        "SEED = 301\n",
        "np.random.seed(SEED)\n",
        "\n",
        "from sklearn.pipeline import Pipeline\n",
        "from sklearn.preprocessing import StandardScaler\n",
        "\n",
        "from sklearn.tree import DecisionTreeClassifier\n",
        "from sklearn.model_selection import GroupKFold\n",
        "from sklearn.model_selection import cross_validate\n",
        "\n",
        "scaler = StandardScaler()\n",
        "modelo = DecisionTreeClassifier(max_depth = 2)\n",
        "\n",
        "pipeline = Pipeline([('transformacao', scaler), ('estimador', modelo)])\n",
        "\n",
        "# determina o numero de validações cruzadas do cross validate\n",
        "cv = GroupKFold(n_splits = 10)\n",
        "\n",
        "# faz a validacao cruzada\n",
        "results = cross_validate(pipeline, \n",
        "                         x,y, \n",
        "                         cv = cv, \n",
        "                         # agrupa os dados a partir dos \n",
        "                         # modelos existentes no dataset\n",
        "                         groups = dados.modelo, \n",
        "                         return_train_score = False)\n",
        "\n",
        "media = results ['test_score'].mean()\n",
        "desvio_padrao = results['test_score'].std()\n",
        "print(\"Accuracy mean: %.2f%%\" % (media * 100))\n",
        "print(\"Accuracy [%.2f%%, %.2f%%]\" % \n",
        "      ((media - 2 *desvio_padrao) * 100, \n",
        "       (media + 2 * desvio_padrao) * 100))"
      ],
      "execution_count": 3,
      "outputs": [
        {
          "output_type": "stream",
          "text": [
            "Accuracy mean: 75.80%\n",
            "Accuracy [72.70%, 78.90%]\n"
          ],
          "name": "stdout"
        }
      ]
    },
    {
      "cell_type": "markdown",
      "metadata": {
        "id": "mQWAFtCP7UcW",
        "colab_type": "text"
      },
      "source": [
        "Agora de fato treinamos o modelo"
      ]
    },
    {
      "cell_type": "code",
      "metadata": {
        "id": "qN3M17De7XXn",
        "colab_type": "code",
        "outputId": "f115d9d9-e3b7-46bc-e01c-ace55316ea38",
        "colab": {
          "base_uri": "https://localhost:8080/",
          "height": 119
        }
      },
      "source": [
        "# treinamento normal\n",
        "modelo.fit(x,y)"
      ],
      "execution_count": 4,
      "outputs": [
        {
          "output_type": "execute_result",
          "data": {
            "text/plain": [
              "DecisionTreeClassifier(class_weight=None, criterion='gini', max_depth=2,\n",
              "                       max_features=None, max_leaf_nodes=None,\n",
              "                       min_impurity_decrease=0.0, min_impurity_split=None,\n",
              "                       min_samples_leaf=1, min_samples_split=2,\n",
              "                       min_weight_fraction_leaf=0.0, presort=False,\n",
              "                       random_state=None, splitter='best')"
            ]
          },
          "metadata": {
            "tags": []
          },
          "execution_count": 4
        }
      ]
    },
    {
      "cell_type": "markdown",
      "metadata": {
        "id": "Fy6OnMiA5LMu",
        "colab_type": "text"
      },
      "source": [
        "#### Imprime a arvore de decisão criada"
      ]
    },
    {
      "cell_type": "markdown",
      "metadata": {
        "id": "ZyZOzpWW6aOj",
        "colab_type": "text"
      },
      "source": [
        "!pip install graphviz==0.9\n",
        "\n",
        "!pip install pydot\n",
        "\n",
        "!apt-get install graphviz"
      ]
    },
    {
      "cell_type": "code",
      "metadata": {
        "id": "YEOK7mIR5O0H",
        "colab_type": "code",
        "outputId": "80cba11f-dc38-46fb-d0a0-7c5b5339c390",
        "colab": {
          "base_uri": "https://localhost:8080/",
          "height": 440
        }
      },
      "source": [
        "from sklearn.tree import export_graphviz\n",
        "import graphviz\n",
        "\n",
        "dot_data = export_graphviz(modelo, out_file = None, filled = True,\n",
        "               rounded = True , class_names = [\"Não vendido\",\"Vendido\"],\n",
        "               feature_names = x.columns)\n",
        "\n",
        "tree = graphviz.Source(dot_data)\n",
        "tree"
      ],
      "execution_count": 5,
      "outputs": [
        {
          "output_type": "execute_result",
          "data": {
            "text/plain": [
              "<graphviz.files.Source at 0x7f48d7665f98>"
            ],
            "image/svg+xml": "<?xml version=\"1.0\" encoding=\"UTF-8\" standalone=\"no\"?>\n<!DOCTYPE svg PUBLIC \"-//W3C//DTD SVG 1.1//EN\"\n \"http://www.w3.org/Graphics/SVG/1.1/DTD/svg11.dtd\">\n<!-- Generated by graphviz version 2.40.1 (20161225.0304)\n -->\n<!-- Title: Tree Pages: 1 -->\n<svg width=\"637pt\" height=\"314pt\"\n viewBox=\"0.00 0.00 636.50 314.00\" xmlns=\"http://www.w3.org/2000/svg\" xmlns:xlink=\"http://www.w3.org/1999/xlink\">\n<g id=\"graph0\" class=\"graph\" transform=\"scale(1 1) rotate(0) translate(4 310)\">\n<title>Tree</title>\n<polygon fill=\"#ffffff\" stroke=\"transparent\" points=\"-4,4 -4,-310 632.5,-310 632.5,4 -4,4\"/>\n<!-- 0 -->\n<g id=\"node1\" class=\"node\">\n<title>0</title>\n<path fill=\"#c8e4f8\" stroke=\"#000000\" d=\"M361.5,-306C361.5,-306 236.5,-306 236.5,-306 230.5,-306 224.5,-300 224.5,-294 224.5,-294 224.5,-235 224.5,-235 224.5,-229 230.5,-223 236.5,-223 236.5,-223 361.5,-223 361.5,-223 367.5,-223 373.5,-229 373.5,-235 373.5,-235 373.5,-294 373.5,-294 373.5,-300 367.5,-306 361.5,-306\"/>\n<text text-anchor=\"middle\" x=\"299\" y=\"-290.8\" font-family=\"Helvetica,sans-Serif\" font-size=\"14.00\" fill=\"#000000\">preco &lt;= 59982.246</text>\n<text text-anchor=\"middle\" x=\"299\" y=\"-275.8\" font-family=\"Helvetica,sans-Serif\" font-size=\"14.00\" fill=\"#000000\">gini = 0.487</text>\n<text text-anchor=\"middle\" x=\"299\" y=\"-260.8\" font-family=\"Helvetica,sans-Serif\" font-size=\"14.00\" fill=\"#000000\">samples = 10000</text>\n<text text-anchor=\"middle\" x=\"299\" y=\"-245.8\" font-family=\"Helvetica,sans-Serif\" font-size=\"14.00\" fill=\"#000000\">value = [4200, 5800]</text>\n<text text-anchor=\"middle\" x=\"299\" y=\"-230.8\" font-family=\"Helvetica,sans-Serif\" font-size=\"14.00\" fill=\"#000000\">class = Vendido</text>\n</g>\n<!-- 1 -->\n<g id=\"node2\" class=\"node\">\n<title>1</title>\n<path fill=\"#52a9e8\" stroke=\"#000000\" d=\"M266.5,-187C266.5,-187 143.5,-187 143.5,-187 137.5,-187 131.5,-181 131.5,-175 131.5,-175 131.5,-116 131.5,-116 131.5,-110 137.5,-104 143.5,-104 143.5,-104 266.5,-104 266.5,-104 272.5,-104 278.5,-110 278.5,-116 278.5,-116 278.5,-175 278.5,-175 278.5,-181 272.5,-187 266.5,-187\"/>\n<text text-anchor=\"middle\" x=\"205\" y=\"-171.8\" font-family=\"Helvetica,sans-Serif\" font-size=\"14.00\" fill=\"#000000\">preco &lt;= 40083.385</text>\n<text text-anchor=\"middle\" x=\"205\" y=\"-156.8\" font-family=\"Helvetica,sans-Serif\" font-size=\"14.00\" fill=\"#000000\">gini = 0.198</text>\n<text text-anchor=\"middle\" x=\"205\" y=\"-141.8\" font-family=\"Helvetica,sans-Serif\" font-size=\"14.00\" fill=\"#000000\">samples = 4347</text>\n<text text-anchor=\"middle\" x=\"205\" y=\"-126.8\" font-family=\"Helvetica,sans-Serif\" font-size=\"14.00\" fill=\"#000000\">value = [484, 3863]</text>\n<text text-anchor=\"middle\" x=\"205\" y=\"-111.8\" font-family=\"Helvetica,sans-Serif\" font-size=\"14.00\" fill=\"#000000\">class = Vendido</text>\n</g>\n<!-- 0&#45;&gt;1 -->\n<g id=\"edge1\" class=\"edge\">\n<title>0&#45;&gt;1</title>\n<path fill=\"none\" stroke=\"#000000\" d=\"M266.1234,-222.8796C259.0803,-213.9633 251.5707,-204.4565 244.3126,-195.268\"/>\n<polygon fill=\"#000000\" stroke=\"#000000\" points=\"246.9621,-192.9757 238.017,-187.2981 241.4691,-197.3147 246.9621,-192.9757\"/>\n<text text-anchor=\"middle\" x=\"235.1027\" y=\"-208.4276\" font-family=\"Helvetica,sans-Serif\" font-size=\"14.00\" fill=\"#000000\">True</text>\n</g>\n<!-- 4 -->\n<g id=\"node5\" class=\"node\">\n<title>4</title>\n<path fill=\"#f3c3a0\" stroke=\"#000000\" d=\"M477,-187C477,-187 309,-187 309,-187 303,-187 297,-181 297,-175 297,-175 297,-116 297,-116 297,-110 303,-104 309,-104 309,-104 477,-104 477,-104 483,-104 489,-110 489,-116 489,-116 489,-175 489,-175 489,-181 483,-187 477,-187\"/>\n<text text-anchor=\"middle\" x=\"393\" y=\"-171.8\" font-family=\"Helvetica,sans-Serif\" font-size=\"14.00\" fill=\"#000000\">km_por_ano &lt;= 24124.006</text>\n<text text-anchor=\"middle\" x=\"393\" y=\"-156.8\" font-family=\"Helvetica,sans-Serif\" font-size=\"14.00\" fill=\"#000000\">gini = 0.45</text>\n<text text-anchor=\"middle\" x=\"393\" y=\"-141.8\" font-family=\"Helvetica,sans-Serif\" font-size=\"14.00\" fill=\"#000000\">samples = 5653</text>\n<text text-anchor=\"middle\" x=\"393\" y=\"-126.8\" font-family=\"Helvetica,sans-Serif\" font-size=\"14.00\" fill=\"#000000\">value = [3716, 1937]</text>\n<text text-anchor=\"middle\" x=\"393\" y=\"-111.8\" font-family=\"Helvetica,sans-Serif\" font-size=\"14.00\" fill=\"#000000\">class = Não vendido</text>\n</g>\n<!-- 0&#45;&gt;4 -->\n<g id=\"edge4\" class=\"edge\">\n<title>0&#45;&gt;4</title>\n<path fill=\"none\" stroke=\"#000000\" d=\"M331.8766,-222.8796C338.9197,-213.9633 346.4293,-204.4565 353.6874,-195.268\"/>\n<polygon fill=\"#000000\" stroke=\"#000000\" points=\"356.5309,-197.3147 359.983,-187.2981 351.0379,-192.9757 356.5309,-197.3147\"/>\n<text text-anchor=\"middle\" x=\"362.8973\" y=\"-208.4276\" font-family=\"Helvetica,sans-Serif\" font-size=\"14.00\" fill=\"#000000\">False</text>\n</g>\n<!-- 2 -->\n<g id=\"node3\" class=\"node\">\n<title>2</title>\n<path fill=\"#399de5\" stroke=\"#000000\" d=\"M112,-68C112,-68 12,-68 12,-68 6,-68 0,-62 0,-56 0,-56 0,-12 0,-12 0,-6 6,0 12,0 12,0 112,0 112,0 118,0 124,-6 124,-12 124,-12 124,-56 124,-56 124,-62 118,-68 112,-68\"/>\n<text text-anchor=\"middle\" x=\"62\" y=\"-52.8\" font-family=\"Helvetica,sans-Serif\" font-size=\"14.00\" fill=\"#000000\">gini = 0.0</text>\n<text text-anchor=\"middle\" x=\"62\" y=\"-37.8\" font-family=\"Helvetica,sans-Serif\" font-size=\"14.00\" fill=\"#000000\">samples = 1935</text>\n<text text-anchor=\"middle\" x=\"62\" y=\"-22.8\" font-family=\"Helvetica,sans-Serif\" font-size=\"14.00\" fill=\"#000000\">value = [0, 1935]</text>\n<text text-anchor=\"middle\" x=\"62\" y=\"-7.8\" font-family=\"Helvetica,sans-Serif\" font-size=\"14.00\" fill=\"#000000\">class = Vendido</text>\n</g>\n<!-- 1&#45;&gt;2 -->\n<g id=\"edge2\" class=\"edge\">\n<title>1&#45;&gt;2</title>\n<path fill=\"none\" stroke=\"#000000\" d=\"M151.7521,-103.9815C139.3756,-94.3313 126.2172,-84.0714 113.8997,-74.4673\"/>\n<polygon fill=\"#000000\" stroke=\"#000000\" points=\"115.9818,-71.6525 105.9435,-68.2637 111.6775,-77.1728 115.9818,-71.6525\"/>\n</g>\n<!-- 3 -->\n<g id=\"node4\" class=\"node\">\n<title>3</title>\n<path fill=\"#6bb6ec\" stroke=\"#000000\" d=\"M270,-68C270,-68 154,-68 154,-68 148,-68 142,-62 142,-56 142,-56 142,-12 142,-12 142,-6 148,0 154,0 154,0 270,0 270,0 276,0 282,-6 282,-12 282,-12 282,-56 282,-56 282,-62 276,-68 270,-68\"/>\n<text text-anchor=\"middle\" x=\"212\" y=\"-52.8\" font-family=\"Helvetica,sans-Serif\" font-size=\"14.00\" fill=\"#000000\">gini = 0.321</text>\n<text text-anchor=\"middle\" x=\"212\" y=\"-37.8\" font-family=\"Helvetica,sans-Serif\" font-size=\"14.00\" fill=\"#000000\">samples = 2412</text>\n<text text-anchor=\"middle\" x=\"212\" y=\"-22.8\" font-family=\"Helvetica,sans-Serif\" font-size=\"14.00\" fill=\"#000000\">value = [484, 1928]</text>\n<text text-anchor=\"middle\" x=\"212\" y=\"-7.8\" font-family=\"Helvetica,sans-Serif\" font-size=\"14.00\" fill=\"#000000\">class = Vendido</text>\n</g>\n<!-- 1&#45;&gt;3 -->\n<g id=\"edge3\" class=\"edge\">\n<title>1&#45;&gt;3</title>\n<path fill=\"none\" stroke=\"#000000\" d=\"M207.6065,-103.9815C208.1316,-95.618 208.6854,-86.7965 209.2163,-78.3409\"/>\n<polygon fill=\"#000000\" stroke=\"#000000\" points=\"212.7154,-78.4634 209.8489,-68.2637 205.7291,-78.0247 212.7154,-78.4634\"/>\n</g>\n<!-- 5 -->\n<g id=\"node6\" class=\"node\">\n<title>5</title>\n<path fill=\"#fcefe5\" stroke=\"#000000\" d=\"M449.5,-68C449.5,-68 324.5,-68 324.5,-68 318.5,-68 312.5,-62 312.5,-56 312.5,-56 312.5,-12 312.5,-12 312.5,-6 318.5,0 324.5,0 324.5,0 449.5,0 449.5,0 455.5,0 461.5,-6 461.5,-12 461.5,-12 461.5,-56 461.5,-56 461.5,-62 455.5,-68 449.5,-68\"/>\n<text text-anchor=\"middle\" x=\"387\" y=\"-52.8\" font-family=\"Helvetica,sans-Serif\" font-size=\"14.00\" fill=\"#000000\">gini = 0.498</text>\n<text text-anchor=\"middle\" x=\"387\" y=\"-37.8\" font-family=\"Helvetica,sans-Serif\" font-size=\"14.00\" fill=\"#000000\">samples = 3513</text>\n<text text-anchor=\"middle\" x=\"387\" y=\"-22.8\" font-family=\"Helvetica,sans-Serif\" font-size=\"14.00\" fill=\"#000000\">value = [1879, 1634]</text>\n<text text-anchor=\"middle\" x=\"387\" y=\"-7.8\" font-family=\"Helvetica,sans-Serif\" font-size=\"14.00\" fill=\"#000000\">class = Não vendido</text>\n</g>\n<!-- 4&#45;&gt;5 -->\n<g id=\"edge5\" class=\"edge\">\n<title>4&#45;&gt;5</title>\n<path fill=\"none\" stroke=\"#000000\" d=\"M390.7658,-103.9815C390.3158,-95.618 389.8411,-86.7965 389.3861,-78.3409\"/>\n<polygon fill=\"#000000\" stroke=\"#000000\" points=\"392.8762,-78.0611 388.8438,-68.2637 385.8863,-78.4373 392.8762,-78.0611\"/>\n</g>\n<!-- 6 -->\n<g id=\"node7\" class=\"node\">\n<title>6</title>\n<path fill=\"#e9965a\" stroke=\"#000000\" d=\"M616.5,-68C616.5,-68 491.5,-68 491.5,-68 485.5,-68 479.5,-62 479.5,-56 479.5,-56 479.5,-12 479.5,-12 479.5,-6 485.5,0 491.5,0 491.5,0 616.5,0 616.5,0 622.5,0 628.5,-6 628.5,-12 628.5,-12 628.5,-56 628.5,-56 628.5,-62 622.5,-68 616.5,-68\"/>\n<text text-anchor=\"middle\" x=\"554\" y=\"-52.8\" font-family=\"Helvetica,sans-Serif\" font-size=\"14.00\" fill=\"#000000\">gini = 0.243</text>\n<text text-anchor=\"middle\" x=\"554\" y=\"-37.8\" font-family=\"Helvetica,sans-Serif\" font-size=\"14.00\" fill=\"#000000\">samples = 2140</text>\n<text text-anchor=\"middle\" x=\"554\" y=\"-22.8\" font-family=\"Helvetica,sans-Serif\" font-size=\"14.00\" fill=\"#000000\">value = [1837, 303]</text>\n<text text-anchor=\"middle\" x=\"554\" y=\"-7.8\" font-family=\"Helvetica,sans-Serif\" font-size=\"14.00\" fill=\"#000000\">class = Não vendido</text>\n</g>\n<!-- 4&#45;&gt;6 -->\n<g id=\"edge6\" class=\"edge\">\n<title>4&#45;&gt;6</title>\n<path fill=\"none\" stroke=\"#000000\" d=\"M452.9505,-103.9815C467.0916,-94.1881 482.1394,-83.7668 496.1841,-74.0402\"/>\n<polygon fill=\"#000000\" stroke=\"#000000\" points=\"498.5539,-76.6565 504.7822,-68.0856 494.5685,-70.9017 498.5539,-76.6565\"/>\n</g>\n</g>\n</svg>\n"
          },
          "metadata": {
            "tags": []
          },
          "execution_count": 5
        }
      ]
    },
    {
      "cell_type": "markdown",
      "metadata": {
        "id": "fHsVxbrVDB16",
        "colab_type": "text"
      },
      "source": [
        "# 1 - Testa o hiperparâmetro max_depth"
      ]
    },
    {
      "cell_type": "code",
      "metadata": {
        "id": "0T-aBQIcDEQR",
        "colab_type": "code",
        "outputId": "976d9149-0adb-420b-d866-efd4e98413b8",
        "colab": {
          "base_uri": "https://localhost:8080/",
          "height": 204
        }
      },
      "source": [
        "result = []\n",
        "\n",
        "def test(max_depth):\n",
        "  cv = GroupKFold(n_splits = 10)\n",
        "  modelo = DecisionTreeClassifier(max_depth=max_depth)\n",
        "  results = cross_validate(modelo, x, y,\n",
        "                           cv = cv, \n",
        "                           groups = dados.modelo, \n",
        "                           return_train_score = True)\n",
        "    \n",
        "  # salva os resultados\n",
        "  result.append(\n",
        "      [\n",
        "        max_depth,\n",
        "        results['fit_time'].mean(),\n",
        "        results['score_time'].mean(),\n",
        "        results['train_score'].mean() * 100,\n",
        "        results['test_score'].mean() * 100\n",
        "      ])\n",
        "  \n",
        "  \n",
        "for i in range (1, 15 + 1):\n",
        "      test(i)\n",
        "\n",
        "result = pd.DataFrame(result , \n",
        "                      columns = [ 'max_depth', 'fit_time', 'score_time', 'train_score' , 'test_score'])\n",
        "\n",
        "result.head()"
      ],
      "execution_count": 6,
      "outputs": [
        {
          "output_type": "execute_result",
          "data": {
            "text/html": [
              "<div>\n",
              "<style scoped>\n",
              "    .dataframe tbody tr th:only-of-type {\n",
              "        vertical-align: middle;\n",
              "    }\n",
              "\n",
              "    .dataframe tbody tr th {\n",
              "        vertical-align: top;\n",
              "    }\n",
              "\n",
              "    .dataframe thead th {\n",
              "        text-align: right;\n",
              "    }\n",
              "</style>\n",
              "<table border=\"1\" class=\"dataframe\">\n",
              "  <thead>\n",
              "    <tr style=\"text-align: right;\">\n",
              "      <th></th>\n",
              "      <th>max_depth</th>\n",
              "      <th>fit_time</th>\n",
              "      <th>score_time</th>\n",
              "      <th>train_score</th>\n",
              "      <th>test_score</th>\n",
              "    </tr>\n",
              "  </thead>\n",
              "  <tbody>\n",
              "    <tr>\n",
              "      <th>0</th>\n",
              "      <td>1</td>\n",
              "      <td>0.005769</td>\n",
              "      <td>0.001339</td>\n",
              "      <td>75.791408</td>\n",
              "      <td>75.804150</td>\n",
              "    </tr>\n",
              "    <tr>\n",
              "      <th>1</th>\n",
              "      <td>2</td>\n",
              "      <td>0.008036</td>\n",
              "      <td>0.001335</td>\n",
              "      <td>75.791408</td>\n",
              "      <td>75.804150</td>\n",
              "    </tr>\n",
              "    <tr>\n",
              "      <th>2</th>\n",
              "      <td>3</td>\n",
              "      <td>0.010254</td>\n",
              "      <td>0.001422</td>\n",
              "      <td>78.752570</td>\n",
              "      <td>78.708432</td>\n",
              "    </tr>\n",
              "    <tr>\n",
              "      <th>3</th>\n",
              "      <td>4</td>\n",
              "      <td>0.011661</td>\n",
              "      <td>0.001413</td>\n",
              "      <td>78.798124</td>\n",
              "      <td>78.688203</td>\n",
              "    </tr>\n",
              "    <tr>\n",
              "      <th>4</th>\n",
              "      <td>5</td>\n",
              "      <td>0.013532</td>\n",
              "      <td>0.001365</td>\n",
              "      <td>78.946939</td>\n",
              "      <td>78.697424</td>\n",
              "    </tr>\n",
              "  </tbody>\n",
              "</table>\n",
              "</div>"
            ],
            "text/plain": [
              "   max_depth  fit_time  score_time  train_score  test_score\n",
              "0          1  0.005769    0.001339    75.791408   75.804150\n",
              "1          2  0.008036    0.001335    75.791408   75.804150\n",
              "2          3  0.010254    0.001422    78.752570   78.708432\n",
              "3          4  0.011661    0.001413    78.798124   78.688203\n",
              "4          5  0.013532    0.001365    78.946939   78.697424"
            ]
          },
          "metadata": {
            "tags": []
          },
          "execution_count": 6
        }
      ]
    },
    {
      "cell_type": "markdown",
      "metadata": {
        "id": "0yBnhfStG7Eq",
        "colab_type": "text"
      },
      "source": [
        "#### Plota o resultado (overfit)\n",
        "!pip install seaborn==0.9.0"
      ]
    },
    {
      "cell_type": "code",
      "metadata": {
        "id": "BU62JUCqHKI6",
        "colab_type": "code",
        "outputId": "fc133dbb-dff1-4562-c1f1-82c3dc450920",
        "colab": {
          "base_uri": "https://localhost:8080/",
          "height": 301
        }
      },
      "source": [
        "import seaborn as sns\n",
        "import matplotlib.pyplot as plt\n",
        "sns.lineplot(x = 'max_depth' , y = 'train_score' , data = result)\n",
        "sns.lineplot(x = 'max_depth' , y = 'test_score' , data = result)\n",
        "plt.legend([\"Train\",'Test'])"
      ],
      "execution_count": 7,
      "outputs": [
        {
          "output_type": "execute_result",
          "data": {
            "text/plain": [
              "<matplotlib.legend.Legend at 0x7f48c7a17198>"
            ]
          },
          "metadata": {
            "tags": []
          },
          "execution_count": 7
        },
        {
          "output_type": "display_data",
          "data": {
            "image/png": "[encoded data removed]",
            "text/plain": [
              "<Figure size 432x288 with 1 Axes>"
            ]
          },
          "metadata": {
            "tags": []
          }
        }
      ]
    },
    {
      "cell_type": "markdown",
      "metadata": {
        "id": "dgxF3_TZIdUe",
        "colab_type": "text"
      },
      "source": [
        "#### Qual o melhor valor de max_depth para o test ?"
      ]
    },
    {
      "cell_type": "code",
      "metadata": {
        "id": "OzjXsgOMIi7o",
        "colab_type": "code",
        "outputId": "45a92bf4-1cd4-424f-a3e1-e2845ef24acd",
        "colab": {
          "base_uri": "https://localhost:8080/",
          "height": 204
        }
      },
      "source": [
        "result.sort_values('test_score' , ascending = False).head()"
      ],
      "execution_count": 8,
      "outputs": [
        {
          "output_type": "execute_result",
          "data": {
            "text/html": [
              "<div>\n",
              "<style scoped>\n",
              "    .dataframe tbody tr th:only-of-type {\n",
              "        vertical-align: middle;\n",
              "    }\n",
              "\n",
              "    .dataframe tbody tr th {\n",
              "        vertical-align: top;\n",
              "    }\n",
              "\n",
              "    .dataframe thead th {\n",
              "        text-align: right;\n",
              "    }\n",
              "</style>\n",
              "<table border=\"1\" class=\"dataframe\">\n",
              "  <thead>\n",
              "    <tr style=\"text-align: right;\">\n",
              "      <th></th>\n",
              "      <th>max_depth</th>\n",
              "      <th>fit_time</th>\n",
              "      <th>score_time</th>\n",
              "      <th>train_score</th>\n",
              "      <th>test_score</th>\n",
              "    </tr>\n",
              "  </thead>\n",
              "  <tbody>\n",
              "    <tr>\n",
              "      <th>2</th>\n",
              "      <td>3</td>\n",
              "      <td>0.010254</td>\n",
              "      <td>0.001422</td>\n",
              "      <td>78.752570</td>\n",
              "      <td>78.708432</td>\n",
              "    </tr>\n",
              "    <tr>\n",
              "      <th>4</th>\n",
              "      <td>5</td>\n",
              "      <td>0.013532</td>\n",
              "      <td>0.001365</td>\n",
              "      <td>78.946939</td>\n",
              "      <td>78.697424</td>\n",
              "    </tr>\n",
              "    <tr>\n",
              "      <th>3</th>\n",
              "      <td>4</td>\n",
              "      <td>0.011661</td>\n",
              "      <td>0.001413</td>\n",
              "      <td>78.798124</td>\n",
              "      <td>78.688203</td>\n",
              "    </tr>\n",
              "    <tr>\n",
              "      <th>5</th>\n",
              "      <td>6</td>\n",
              "      <td>0.015776</td>\n",
              "      <td>0.001475</td>\n",
              "      <td>79.142539</td>\n",
              "      <td>78.627739</td>\n",
              "    </tr>\n",
              "    <tr>\n",
              "      <th>6</th>\n",
              "      <td>7</td>\n",
              "      <td>0.016847</td>\n",
              "      <td>0.001515</td>\n",
              "      <td>79.404805</td>\n",
              "      <td>78.428865</td>\n",
              "    </tr>\n",
              "  </tbody>\n",
              "</table>\n",
              "</div>"
            ],
            "text/plain": [
              "   max_depth  fit_time  score_time  train_score  test_score\n",
              "2          3  0.010254    0.001422    78.752570   78.708432\n",
              "4          5  0.013532    0.001365    78.946939   78.697424\n",
              "3          4  0.011661    0.001413    78.798124   78.688203\n",
              "5          6  0.015776    0.001475    79.142539   78.627739\n",
              "6          7  0.016847    0.001515    79.404805   78.428865"
            ]
          },
          "metadata": {
            "tags": []
          },
          "execution_count": 8
        }
      ]
    },
    {
      "cell_type": "markdown",
      "metadata": {
        "id": "Ie9f1QPl6P-f",
        "colab_type": "text"
      },
      "source": [
        "# 2 - Testa os Hiperparâmetros max_depth e o min_samples_leaf"
      ]
    },
    {
      "cell_type": "code",
      "metadata": {
        "id": "bSIqjSJu8JJJ",
        "colab_type": "code",
        "outputId": "7fe353fb-3c45-4a2d-b405-0c32bb881f9d",
        "colab": {
          "base_uri": "https://localhost:8080/",
          "height": 204
        }
      },
      "source": [
        "result = []\n",
        "\n",
        "def test(max_depth,min_samples_leaf):\n",
        "  cv = GroupKFold(n_splits = 10)\n",
        "  modelo = DecisionTreeClassifier(\n",
        "      max_depth = max_depth,\n",
        "      min_samples_leaf = min_samples_leaf)\n",
        "  results = cross_validate(modelo, x, y,\n",
        "                           cv = cv, \n",
        "                           groups = dados.modelo, \n",
        "                           return_train_score = True)\n",
        "    \n",
        "  # salva os resultados\n",
        "  result.append(\n",
        "      [\n",
        "        max_depth,\n",
        "        min_samples_leaf,\n",
        "        results['fit_time'].mean(),\n",
        "        results['score_time'].mean(),\n",
        "        results['train_score'].mean() * 100,\n",
        "        results['test_score'].mean() * 100\n",
        "      ])\n",
        "  \n",
        "  \n",
        "for depth in range (1, 15 + 1):\n",
        "  for min_leaf in range (1, 15 + 1):\n",
        "      test(depth,min_leaf)\n",
        "\n",
        "result = pd.DataFrame(result , \n",
        "                      columns = [ 'max_depth', 'min_samples_leaf', 'fit_time', 'score_time', 'train_score' , 'test_score'])\n",
        "\n",
        "# mostra os melhores resultados\n",
        "result.sort_values('test_score' , ascending = False).head()"
      ],
      "execution_count": 9,
      "outputs": [
        {
          "output_type": "execute_result",
          "data": {
            "text/html": [
              "<div>\n",
              "<style scoped>\n",
              "    .dataframe tbody tr th:only-of-type {\n",
              "        vertical-align: middle;\n",
              "    }\n",
              "\n",
              "    .dataframe tbody tr th {\n",
              "        vertical-align: top;\n",
              "    }\n",
              "\n",
              "    .dataframe thead th {\n",
              "        text-align: right;\n",
              "    }\n",
              "</style>\n",
              "<table border=\"1\" class=\"dataframe\">\n",
              "  <thead>\n",
              "    <tr style=\"text-align: right;\">\n",
              "      <th></th>\n",
              "      <th>max_depth</th>\n",
              "      <th>min_samples_leaf</th>\n",
              "      <th>fit_time</th>\n",
              "      <th>score_time</th>\n",
              "      <th>train_score</th>\n",
              "      <th>test_score</th>\n",
              "    </tr>\n",
              "  </thead>\n",
              "  <tbody>\n",
              "    <tr>\n",
              "      <th>61</th>\n",
              "      <td>5</td>\n",
              "      <td>2</td>\n",
              "      <td>0.013383</td>\n",
              "      <td>0.001357</td>\n",
              "      <td>78.924728</td>\n",
              "      <td>78.717605</td>\n",
              "    </tr>\n",
              "    <tr>\n",
              "      <th>35</th>\n",
              "      <td>3</td>\n",
              "      <td>6</td>\n",
              "      <td>0.009761</td>\n",
              "      <td>0.001339</td>\n",
              "      <td>78.752570</td>\n",
              "      <td>78.708432</td>\n",
              "    </tr>\n",
              "    <tr>\n",
              "      <th>44</th>\n",
              "      <td>3</td>\n",
              "      <td>15</td>\n",
              "      <td>0.009827</td>\n",
              "      <td>0.001343</td>\n",
              "      <td>78.752570</td>\n",
              "      <td>78.708432</td>\n",
              "    </tr>\n",
              "    <tr>\n",
              "      <th>42</th>\n",
              "      <td>3</td>\n",
              "      <td>13</td>\n",
              "      <td>0.009806</td>\n",
              "      <td>0.001335</td>\n",
              "      <td>78.752570</td>\n",
              "      <td>78.708432</td>\n",
              "    </tr>\n",
              "    <tr>\n",
              "      <th>41</th>\n",
              "      <td>3</td>\n",
              "      <td>12</td>\n",
              "      <td>0.009747</td>\n",
              "      <td>0.001331</td>\n",
              "      <td>78.752570</td>\n",
              "      <td>78.708432</td>\n",
              "    </tr>\n",
              "  </tbody>\n",
              "</table>\n",
              "</div>"
            ],
            "text/plain": [
              "    max_depth  min_samples_leaf  fit_time  score_time  train_score  test_score\n",
              "61          5                 2  0.013383    0.001357    78.924728   78.717605\n",
              "35          3                 6  0.009761    0.001339    78.752570   78.708432\n",
              "44          3                15  0.009827    0.001343    78.752570   78.708432\n",
              "42          3                13  0.009806    0.001335    78.752570   78.708432\n",
              "41          3                12  0.009747    0.001331    78.752570   78.708432"
            ]
          },
          "metadata": {
            "tags": []
          },
          "execution_count": 9
        }
      ]
    },
    {
      "cell_type": "markdown",
      "metadata": {
        "id": "CHLwVSAAAhCR",
        "colab_type": "text"
      },
      "source": [
        "#### Correlação dos Resultados"
      ]
    },
    {
      "cell_type": "code",
      "metadata": {
        "id": "OUUhtTONAl0m",
        "colab_type": "code",
        "outputId": "d9e5ded8-c510-4b49-d9e5-127a9fcfc79b",
        "colab": {
          "base_uri": "https://localhost:8080/",
          "height": 235
        }
      },
      "source": [
        "corr = result.corr()\n",
        "corr"
      ],
      "execution_count": 10,
      "outputs": [
        {
          "output_type": "execute_result",
          "data": {
            "text/html": [
              "<div>\n",
              "<style scoped>\n",
              "    .dataframe tbody tr th:only-of-type {\n",
              "        vertical-align: middle;\n",
              "    }\n",
              "\n",
              "    .dataframe tbody tr th {\n",
              "        vertical-align: top;\n",
              "    }\n",
              "\n",
              "    .dataframe thead th {\n",
              "        text-align: right;\n",
              "    }\n",
              "</style>\n",
              "<table border=\"1\" class=\"dataframe\">\n",
              "  <thead>\n",
              "    <tr style=\"text-align: right;\">\n",
              "      <th></th>\n",
              "      <th>max_depth</th>\n",
              "      <th>min_samples_leaf</th>\n",
              "      <th>fit_time</th>\n",
              "      <th>score_time</th>\n",
              "      <th>train_score</th>\n",
              "      <th>test_score</th>\n",
              "    </tr>\n",
              "  </thead>\n",
              "  <tbody>\n",
              "    <tr>\n",
              "      <th>max_depth</th>\n",
              "      <td>1.000000</td>\n",
              "      <td>0.000000</td>\n",
              "      <td>0.987894</td>\n",
              "      <td>0.484522</td>\n",
              "      <td>0.935455</td>\n",
              "      <td>-0.357612</td>\n",
              "    </tr>\n",
              "    <tr>\n",
              "      <th>min_samples_leaf</th>\n",
              "      <td>0.000000</td>\n",
              "      <td>1.000000</td>\n",
              "      <td>-0.055317</td>\n",
              "      <td>-0.071035</td>\n",
              "      <td>-0.108027</td>\n",
              "      <td>-0.023043</td>\n",
              "    </tr>\n",
              "    <tr>\n",
              "      <th>fit_time</th>\n",
              "      <td>0.987894</td>\n",
              "      <td>-0.055317</td>\n",
              "      <td>1.000000</td>\n",
              "      <td>0.515706</td>\n",
              "      <td>0.947149</td>\n",
              "      <td>-0.271443</td>\n",
              "    </tr>\n",
              "    <tr>\n",
              "      <th>score_time</th>\n",
              "      <td>0.484522</td>\n",
              "      <td>-0.071035</td>\n",
              "      <td>0.515706</td>\n",
              "      <td>1.000000</td>\n",
              "      <td>0.429756</td>\n",
              "      <td>-0.170111</td>\n",
              "    </tr>\n",
              "    <tr>\n",
              "      <th>train_score</th>\n",
              "      <td>0.935455</td>\n",
              "      <td>-0.108027</td>\n",
              "      <td>0.947149</td>\n",
              "      <td>0.429756</td>\n",
              "      <td>1.000000</td>\n",
              "      <td>-0.124719</td>\n",
              "    </tr>\n",
              "    <tr>\n",
              "      <th>test_score</th>\n",
              "      <td>-0.357612</td>\n",
              "      <td>-0.023043</td>\n",
              "      <td>-0.271443</td>\n",
              "      <td>-0.170111</td>\n",
              "      <td>-0.124719</td>\n",
              "      <td>1.000000</td>\n",
              "    </tr>\n",
              "  </tbody>\n",
              "</table>\n",
              "</div>"
            ],
            "text/plain": [
              "                  max_depth  min_samples_leaf  ...  train_score  test_score\n",
              "max_depth          1.000000          0.000000  ...     0.935455   -0.357612\n",
              "min_samples_leaf   0.000000          1.000000  ...    -0.108027   -0.023043\n",
              "fit_time           0.987894         -0.055317  ...     0.947149   -0.271443\n",
              "score_time         0.484522         -0.071035  ...     0.429756   -0.170111\n",
              "train_score        0.935455         -0.108027  ...     1.000000   -0.124719\n",
              "test_score        -0.357612         -0.023043  ...    -0.124719    1.000000\n",
              "\n",
              "[6 rows x 6 columns]"
            ]
          },
          "metadata": {
            "tags": []
          },
          "execution_count": 10
        }
      ]
    },
    {
      "cell_type": "markdown",
      "metadata": {
        "id": "T1dWte0XAxWe",
        "colab_type": "text"
      },
      "source": [
        "Quanto mais alto o valor, mais correlacionados estão os elementos na comparação. Por exemplo, quanto maior o max_depth, maior será o max_depth. Essa é uma conclusão bastante óbvia, afinal o max_depth é ele mesmo, mas que nos ajuda a entender o que está acontecendo. Além disso, repare resultados positivos (maiores que 0) representam uma correlação positiva, e negativos uma correlação negativa.\n",
        "\n",
        "Outras conclusões que podemos tirar a partir desses resultados:\n",
        "\n",
        "* quando max_depth cresce, o treino parece crescer também\n",
        "* quando min_samples_leaf cresce, o treino cai\n",
        "* quando max_depth sobe, o teste cai\n",
        "* quando min_samples_leaf sobe, o teste sobe\n",
        "\n",
        "####Note que essa não é uma prova de causalidade, mas um teste de correlação."
      ]
    },
    {
      "cell_type": "markdown",
      "metadata": {
        "id": "jkJi5BreBPKR",
        "colab_type": "text"
      },
      "source": [
        "# 3 - Visualiza a correlação do resultado"
      ]
    },
    {
      "cell_type": "code",
      "metadata": {
        "id": "QtQ2BElxBV8c",
        "colab_type": "code",
        "outputId": "f320a549-2b74-4a1f-bbe3-d6a2e66bd64b",
        "colab": {
          "base_uri": "https://localhost:8080/",
          "height": 365
        }
      },
      "source": [
        "sns.heatmap(corr,cmap = \"PuBu\")"
      ],
      "execution_count": 11,
      "outputs": [
        {
          "output_type": "execute_result",
          "data": {
            "text/plain": [
              "<matplotlib.axes._subplots.AxesSubplot at 0x7f48c8702ba8>"
            ]
          },
          "metadata": {
            "tags": []
          },
          "execution_count": 11
        },
        {
          "output_type": "display_data",
          "data": {
            "image/png": "[encoded data removed]",
            "text/plain": [
              "<Figure size 432x288 with 2 Axes>"
            ]
          },
          "metadata": {
            "tags": []
          }
        }
      ]
    },
    {
      "cell_type": "markdown",
      "metadata": {
        "id": "I-H9BkGMNsAy",
        "colab_type": "text"
      },
      "source": [
        "# 4 - Explorando Hiperparâmetros como o gridsearch"
      ]
    },
    {
      "cell_type": "code",
      "metadata": {
        "id": "WWHUn3BgN1Fo",
        "colab_type": "code",
        "outputId": "4ff083b6-5d1c-42c7-b369-6726ced766f2",
        "colab": {
          "base_uri": "https://localhost:8080/",
          "height": 88
        }
      },
      "source": [
        "from sklearn.model_selection import GridSearchCV\n",
        "\n",
        "paramets = {\n",
        "    \"max_depth\" : [2, 3, 4, 5],\n",
        "    \"min_samples_split\": [32, 64, 128],\n",
        "    \"min_samples_leaf\": [32, 64, 128],\n",
        "    \"criterion\": [\"gini\", \"entropy\"]\n",
        "\n",
        "}\n",
        "\n",
        "search = GridSearchCV(DecisionTreeClassifier(),\n",
        "                    paramets,\n",
        "                    cv = GroupKFold(n_splits = 10))\n",
        "\n",
        "search.fit(x, y ,groups = dados.modelo)\n",
        "results = pd.DataFrame(search.cv_results_)\n",
        "r = results.sort_values('mean_test_score',ascending = False)\n",
        "# mostra o melhor\n",
        "for id,row in r[:3].iterrows():\n",
        "  print(\"%.3f +-(%.3f) %s\" % (row.mean_test_score, row.std_test_score*2, row.params))\n",
        "  break"
      ],
      "execution_count": 12,
      "outputs": [
        {
          "output_type": "stream",
          "text": [
            "0.787 +-(0.032) {'criterion': 'entropy', 'max_depth': 3, 'min_samples_leaf': 128, 'min_samples_split': 128}\n"
          ],
          "name": "stdout"
        },
        {
          "output_type": "stream",
          "text": [
            "/usr/local/lib/python3.6/dist-packages/sklearn/model_selection/_search.py:814: DeprecationWarning: The default of the `iid` parameter will change from True to False in version 0.22 and will be removed in 0.24. This will change numeric results when test-set sizes are unequal.\n",
            "  DeprecationWarning)\n"
          ],
          "name": "stderr"
        }
      ]
    },
    {
      "cell_type": "markdown",
      "metadata": {
        "id": "OB4vPJ4LOjRb",
        "colab_type": "text"
      },
      "source": [
        " #### os melhores parâmetros"
      ]
    },
    {
      "cell_type": "code",
      "metadata": {
        "id": "OD4k9NYcOldb",
        "colab_type": "code",
        "outputId": "b50c6f8e-0a35-48e2-c6e7-a0724baaadeb",
        "colab": {
          "base_uri": "https://localhost:8080/",
          "height": 85
        }
      },
      "source": [
        "search.best_params_"
      ],
      "execution_count": 13,
      "outputs": [
        {
          "output_type": "execute_result",
          "data": {
            "text/plain": [
              "{'criterion': 'gini',\n",
              " 'max_depth': 3,\n",
              " 'min_samples_leaf': 32,\n",
              " 'min_samples_split': 32}"
            ]
          },
          "metadata": {
            "tags": []
          },
          "execution_count": 13
        }
      ]
    },
    {
      "cell_type": "markdown",
      "metadata": {
        "id": "aABkkb8MOxzA",
        "colab_type": "text"
      },
      "source": [
        "#### melhor score"
      ]
    },
    {
      "cell_type": "code",
      "metadata": {
        "id": "Ixn5IMI_O3_0",
        "colab_type": "code",
        "outputId": "a4d53b5d-e930-4790-9c2e-d6c818c4a01c",
        "colab": {
          "base_uri": "https://localhost:8080/",
          "height": 34
        }
      },
      "source": [
        "search.best_score_ * 100"
      ],
      "execution_count": 14,
      "outputs": [
        {
          "output_type": "execute_result",
          "data": {
            "text/plain": [
              "78.68"
            ]
          },
          "metadata": {
            "tags": []
          },
          "execution_count": 14
        }
      ]
    },
    {
      "cell_type": "markdown",
      "metadata": {
        "id": "7VN4o3fZPLLF",
        "colab_type": "text"
      },
      "source": [
        "#### pegamos o melhor modelo já treinado e fazemos a avaliação\n",
        "\n",
        "Na documentação do SKLearn, encontramos uma seção sobre nested versus non-nested cross-validation. O texto afirma que quando estamos utilizando hiperparâmetros, fazendo, por exemplo, o GridSearchCV junto com o cross_validation_score, não devemos descobrir a nossa métrica por meio do predict(), mas sim com outro cross_valiation_score.\n",
        "\n",
        "Utilizar o predict() acaba sendo muito otimista, pois acabamos incorrendo em um vício sobre os dados que já tínhamos visto. Portanto, essa abordagem deve ser evitada."
      ]
    },
    {
      "cell_type": "markdown",
      "metadata": {
        "id": "aYQTvfe89Db5",
        "colab_type": "text"
      },
      "source": [
        "```\n",
        "from sklearn.model_selection import cross_val_score\n",
        "\n",
        "scores = cross_val_score(search, x, y , cv = GroupKFold(n_splits=10), groups = dados.modelo)\n",
        "scores\n",
        "\n",
        "```\n",
        "\n"
      ]
    },
    {
      "cell_type": "markdown",
      "metadata": {
        "id": "YFphrQTt9Jrv",
        "colab_type": "text"
      },
      "source": [
        "Tentando rodar esse código, receberemos um erro afirmando que o valor de groups não deve ser none, como se não tivéssemos passado nenhum valor para os grupos. Ou seja, de alguma forma groups não está chegando em GroupKFold() - e é exatamente isso que está acontecendo.\n",
        "\n",
        "Na verdade, isso ocorre por conta de um bug - o GroupKFold falha na validação cruzada aninhada, e existe até um tópico no GitHub do scikit sobre esse problema. É um bug antigo (o tópico foi criado em 2016), mas continua em aberto, pois é razoavelmente complicado implementar a correção dele.\n",
        "\n",
        "Como o Pandas não suporta nested validation com o GroupKFold, não conseguiremos prever o resultado para novos grupos. Como alternativa, usaremos o KFold comum, que precisa ser importado de sklearn.model_selection."
      ]
    },
    {
      "cell_type": "code",
      "metadata": {
        "id": "OEjbt5LsPRE2",
        "colab_type": "code",
        "outputId": "9864a3ff-7518-4744-cfda-5576416c068c",
        "colab": {
          "base_uri": "https://localhost:8080/",
          "height": 51
        }
      },
      "source": [
        "# repete essa parte do codigo - mas agora com o KFold e sem o groups\n",
        "from sklearn.model_selection import KFold\n",
        "\n",
        "paramets = {\n",
        "    \"max_depth\" : [2, 3, 4, 5],\n",
        "    \"min_samples_split\": [32, 64, 128],\n",
        "    \"min_samples_leaf\": [32, 64, 128],\n",
        "    \"criterion\": [\"gini\", \"entropy\"]\n",
        "\n",
        "}\n",
        "\n",
        "search = GridSearchCV(DecisionTreeClassifier(),\n",
        "                    paramets,\n",
        "                    cv = KFold(n_splits = 10))\n",
        "\n",
        "search.fit(x, y)\n",
        "\n",
        "from sklearn.model_selection import cross_val_score\n",
        "\n",
        "scores = cross_val_score(search, x, y, cv = KFold(n_splits = 10, shuffle=True) )\n",
        "scores"
      ],
      "execution_count": 15,
      "outputs": [
        {
          "output_type": "execute_result",
          "data": {
            "text/plain": [
              "array([0.796, 0.772, 0.785, 0.79 , 0.792, 0.789, 0.78 , 0.823, 0.766,\n",
              "       0.776])"
            ]
          },
          "metadata": {
            "tags": []
          },
          "execution_count": 15
        }
      ]
    },
    {
      "cell_type": "code",
      "metadata": {
        "id": "MP5yI-_e_xLg",
        "colab_type": "code",
        "outputId": "7c957e5d-ab69-4959-a505-b86f19421c68",
        "colab": {
          "base_uri": "https://localhost:8080/",
          "height": 51
        }
      },
      "source": [
        "media = scores.mean() * 100\n",
        "desvio = scores.std() * 100\n",
        "print(\"Accuracy média %.2f\" % media)\n",
        "print(\"Intervalo [%.2f, %.2f]\" % (media - 2 * desvio, media + 2 * desvio))"
      ],
      "execution_count": 16,
      "outputs": [
        {
          "output_type": "stream",
          "text": [
            "Accuracy média 78.69\n",
            "Intervalo [75.69, 81.69]\n"
          ],
          "name": "stdout"
        }
      ]
    },
    {
      "cell_type": "markdown",
      "metadata": {
        "id": "kIukRS3oAlrO",
        "colab_type": "text"
      },
      "source": [
        "#### seleciona o melhor models"
      ]
    },
    {
      "cell_type": "code",
      "metadata": {
        "id": "2DLmP2f7AlzJ",
        "colab_type": "code",
        "outputId": "155cc927-ae7a-4f57-e4a7-7588140a35eb",
        "colab": {
          "base_uri": "https://localhost:8080/",
          "height": 119
        }
      },
      "source": [
        "better = search.best_estimator_\n",
        "better"
      ],
      "execution_count": 17,
      "outputs": [
        {
          "output_type": "execute_result",
          "data": {
            "text/plain": [
              "DecisionTreeClassifier(class_weight=None, criterion='gini', max_depth=3,\n",
              "                       max_features=None, max_leaf_nodes=None,\n",
              "                       min_impurity_decrease=0.0, min_impurity_split=None,\n",
              "                       min_samples_leaf=32, min_samples_split=32,\n",
              "                       min_weight_fraction_leaf=0.0, presort=False,\n",
              "                       random_state=None, splitter='best')"
            ]
          },
          "metadata": {
            "tags": []
          },
          "execution_count": 17
        }
      ]
    },
    {
      "cell_type": "markdown",
      "metadata": {
        "id": "6ln7Gx0U_51_",
        "colab_type": "text"
      },
      "source": [
        "#### Imprime a arvore de descisão"
      ]
    },
    {
      "cell_type": "code",
      "metadata": {
        "id": "fE8pSo-P__nH",
        "colab_type": "code",
        "outputId": "27dc8621-e3a7-4e2a-960a-00a978e58102",
        "colab": {
          "base_uri": "https://localhost:8080/",
          "height": 598
        }
      },
      "source": [
        "from sklearn.tree import export_graphviz\n",
        "import graphviz\n",
        "\n",
        "\n",
        "features = x.columns\n",
        "dot_data = export_graphviz(better, out_file = None, filled = True, rounded = True,\n",
        "                          class_names=[\"não\",\"sim\"],\n",
        "                          feature_names = features )\n",
        "graph = graphviz.Source(dot_data)\n",
        "graph"
      ],
      "execution_count": 18,
      "outputs": [
        {
          "output_type": "execute_result",
          "data": {
            "text/plain": [
              "<graphviz.files.Source at 0x7f48c507e128>"
            ],
            "image/svg+xml": "<?xml version=\"1.0\" encoding=\"UTF-8\" standalone=\"no\"?>\n<!DOCTYPE svg PUBLIC \"-//W3C//DTD SVG 1.1//EN\"\n \"http://www.w3.org/Graphics/SVG/1.1/DTD/svg11.dtd\">\n<!-- Generated by graphviz version 2.40.1 (20161225.0304)\n -->\n<!-- Title: Tree Pages: 1 -->\n<svg width=\"912pt\" height=\"433pt\"\n viewBox=\"0.00 0.00 912.00 433.00\" xmlns=\"http://www.w3.org/2000/svg\" xmlns:xlink=\"http://www.w3.org/1999/xlink\">\n<g id=\"graph0\" class=\"graph\" transform=\"scale(1 1) rotate(0) translate(4 429)\">\n<title>Tree</title>\n<polygon fill=\"#ffffff\" stroke=\"transparent\" points=\"-4,4 -4,-429 908,-429 908,4 -4,4\"/>\n<!-- 0 -->\n<g id=\"node1\" class=\"node\">\n<title>0</title>\n<path fill=\"#c8e4f8\" stroke=\"#000000\" d=\"M372.5,-425C372.5,-425 247.5,-425 247.5,-425 241.5,-425 235.5,-419 235.5,-413 235.5,-413 235.5,-354 235.5,-354 235.5,-348 241.5,-342 247.5,-342 247.5,-342 372.5,-342 372.5,-342 378.5,-342 384.5,-348 384.5,-354 384.5,-354 384.5,-413 384.5,-413 384.5,-419 378.5,-425 372.5,-425\"/>\n<text text-anchor=\"middle\" x=\"310\" y=\"-409.8\" font-family=\"Helvetica,sans-Serif\" font-size=\"14.00\" fill=\"#000000\">preco &lt;= 59982.246</text>\n<text text-anchor=\"middle\" x=\"310\" y=\"-394.8\" font-family=\"Helvetica,sans-Serif\" font-size=\"14.00\" fill=\"#000000\">gini = 0.487</text>\n<text text-anchor=\"middle\" x=\"310\" y=\"-379.8\" font-family=\"Helvetica,sans-Serif\" font-size=\"14.00\" fill=\"#000000\">samples = 10000</text>\n<text text-anchor=\"middle\" x=\"310\" y=\"-364.8\" font-family=\"Helvetica,sans-Serif\" font-size=\"14.00\" fill=\"#000000\">value = [4200, 5800]</text>\n<text text-anchor=\"middle\" x=\"310\" y=\"-349.8\" font-family=\"Helvetica,sans-Serif\" font-size=\"14.00\" fill=\"#000000\">class = sim</text>\n</g>\n<!-- 1 -->\n<g id=\"node2\" class=\"node\">\n<title>1</title>\n<path fill=\"#52a9e8\" stroke=\"#000000\" d=\"M277.5,-306C277.5,-306 154.5,-306 154.5,-306 148.5,-306 142.5,-300 142.5,-294 142.5,-294 142.5,-235 142.5,-235 142.5,-229 148.5,-223 154.5,-223 154.5,-223 277.5,-223 277.5,-223 283.5,-223 289.5,-229 289.5,-235 289.5,-235 289.5,-294 289.5,-294 289.5,-300 283.5,-306 277.5,-306\"/>\n<text text-anchor=\"middle\" x=\"216\" y=\"-290.8\" font-family=\"Helvetica,sans-Serif\" font-size=\"14.00\" fill=\"#000000\">preco &lt;= 40083.385</text>\n<text text-anchor=\"middle\" x=\"216\" y=\"-275.8\" font-family=\"Helvetica,sans-Serif\" font-size=\"14.00\" fill=\"#000000\">gini = 0.198</text>\n<text text-anchor=\"middle\" x=\"216\" y=\"-260.8\" font-family=\"Helvetica,sans-Serif\" font-size=\"14.00\" fill=\"#000000\">samples = 4347</text>\n<text text-anchor=\"middle\" x=\"216\" y=\"-245.8\" font-family=\"Helvetica,sans-Serif\" font-size=\"14.00\" fill=\"#000000\">value = [484, 3863]</text>\n<text text-anchor=\"middle\" x=\"216\" y=\"-230.8\" font-family=\"Helvetica,sans-Serif\" font-size=\"14.00\" fill=\"#000000\">class = sim</text>\n</g>\n<!-- 0&#45;&gt;1 -->\n<g id=\"edge1\" class=\"edge\">\n<title>0&#45;&gt;1</title>\n<path fill=\"none\" stroke=\"#000000\" d=\"M277.1234,-341.8796C270.0803,-332.9633 262.5707,-323.4565 255.3126,-314.268\"/>\n<polygon fill=\"#000000\" stroke=\"#000000\" points=\"257.9621,-311.9757 249.017,-306.2981 252.4691,-316.3147 257.9621,-311.9757\"/>\n<text text-anchor=\"middle\" x=\"246.1027\" y=\"-327.4276\" font-family=\"Helvetica,sans-Serif\" font-size=\"14.00\" fill=\"#000000\">True</text>\n</g>\n<!-- 6 -->\n<g id=\"node7\" class=\"node\">\n<title>6</title>\n<path fill=\"#f3c3a0\" stroke=\"#000000\" d=\"M545,-306C545,-306 377,-306 377,-306 371,-306 365,-300 365,-294 365,-294 365,-235 365,-235 365,-229 371,-223 377,-223 377,-223 545,-223 545,-223 551,-223 557,-229 557,-235 557,-235 557,-294 557,-294 557,-300 551,-306 545,-306\"/>\n<text text-anchor=\"middle\" x=\"461\" y=\"-290.8\" font-family=\"Helvetica,sans-Serif\" font-size=\"14.00\" fill=\"#000000\">km_por_ano &lt;= 24124.006</text>\n<text text-anchor=\"middle\" x=\"461\" y=\"-275.8\" font-family=\"Helvetica,sans-Serif\" font-size=\"14.00\" fill=\"#000000\">gini = 0.45</text>\n<text text-anchor=\"middle\" x=\"461\" y=\"-260.8\" font-family=\"Helvetica,sans-Serif\" font-size=\"14.00\" fill=\"#000000\">samples = 5653</text>\n<text text-anchor=\"middle\" x=\"461\" y=\"-245.8\" font-family=\"Helvetica,sans-Serif\" font-size=\"14.00\" fill=\"#000000\">value = [3716, 1937]</text>\n<text text-anchor=\"middle\" x=\"461\" y=\"-230.8\" font-family=\"Helvetica,sans-Serif\" font-size=\"14.00\" fill=\"#000000\">class = não</text>\n</g>\n<!-- 0&#45;&gt;6 -->\n<g id=\"edge6\" class=\"edge\">\n<title>0&#45;&gt;6</title>\n<path fill=\"none\" stroke=\"#000000\" d=\"M362.8125,-341.8796C374.8818,-332.368 387.8039,-322.1843 400.1788,-312.432\"/>\n<polygon fill=\"#000000\" stroke=\"#000000\" points=\"402.5296,-315.0356 408.2173,-306.0969 398.1968,-309.5377 402.5296,-315.0356\"/>\n<text text-anchor=\"middle\" x=\"405.275\" y=\"-327.2232\" font-family=\"Helvetica,sans-Serif\" font-size=\"14.00\" fill=\"#000000\">False</text>\n</g>\n<!-- 2 -->\n<g id=\"node3\" class=\"node\">\n<title>2</title>\n<path fill=\"#399de5\" stroke=\"#000000\" d=\"M112,-179.5C112,-179.5 12,-179.5 12,-179.5 6,-179.5 0,-173.5 0,-167.5 0,-167.5 0,-123.5 0,-123.5 0,-117.5 6,-111.5 12,-111.5 12,-111.5 112,-111.5 112,-111.5 118,-111.5 124,-117.5 124,-123.5 124,-123.5 124,-167.5 124,-167.5 124,-173.5 118,-179.5 112,-179.5\"/>\n<text text-anchor=\"middle\" x=\"62\" y=\"-164.3\" font-family=\"Helvetica,sans-Serif\" font-size=\"14.00\" fill=\"#000000\">gini = 0.0</text>\n<text text-anchor=\"middle\" x=\"62\" y=\"-149.3\" font-family=\"Helvetica,sans-Serif\" font-size=\"14.00\" fill=\"#000000\">samples = 1935</text>\n<text text-anchor=\"middle\" x=\"62\" y=\"-134.3\" font-family=\"Helvetica,sans-Serif\" font-size=\"14.00\" fill=\"#000000\">value = [0, 1935]</text>\n<text text-anchor=\"middle\" x=\"62\" y=\"-119.3\" font-family=\"Helvetica,sans-Serif\" font-size=\"14.00\" fill=\"#000000\">class = sim</text>\n</g>\n<!-- 1&#45;&gt;2 -->\n<g id=\"edge2\" class=\"edge\">\n<title>1&#45;&gt;2</title>\n<path fill=\"none\" stroke=\"#000000\" d=\"M162.1383,-222.8796C146.7696,-211.0038 130.0453,-198.0804 114.7441,-186.2568\"/>\n<polygon fill=\"#000000\" stroke=\"#000000\" points=\"116.4605,-183.1599 106.4076,-179.8149 112.1804,-188.699 116.4605,-183.1599\"/>\n</g>\n<!-- 3 -->\n<g id=\"node4\" class=\"node\">\n<title>3</title>\n<path fill=\"#6bb6ec\" stroke=\"#000000\" d=\"M277.5,-187C277.5,-187 154.5,-187 154.5,-187 148.5,-187 142.5,-181 142.5,-175 142.5,-175 142.5,-116 142.5,-116 142.5,-110 148.5,-104 154.5,-104 154.5,-104 277.5,-104 277.5,-104 283.5,-104 289.5,-110 289.5,-116 289.5,-116 289.5,-175 289.5,-175 289.5,-181 283.5,-187 277.5,-187\"/>\n<text text-anchor=\"middle\" x=\"216\" y=\"-171.8\" font-family=\"Helvetica,sans-Serif\" font-size=\"14.00\" fill=\"#000000\">preco &lt;= 41083.029</text>\n<text text-anchor=\"middle\" x=\"216\" y=\"-156.8\" font-family=\"Helvetica,sans-Serif\" font-size=\"14.00\" fill=\"#000000\">gini = 0.321</text>\n<text text-anchor=\"middle\" x=\"216\" y=\"-141.8\" font-family=\"Helvetica,sans-Serif\" font-size=\"14.00\" fill=\"#000000\">samples = 2412</text>\n<text text-anchor=\"middle\" x=\"216\" y=\"-126.8\" font-family=\"Helvetica,sans-Serif\" font-size=\"14.00\" fill=\"#000000\">value = [484, 1928]</text>\n<text text-anchor=\"middle\" x=\"216\" y=\"-111.8\" font-family=\"Helvetica,sans-Serif\" font-size=\"14.00\" fill=\"#000000\">class = sim</text>\n</g>\n<!-- 1&#45;&gt;3 -->\n<g id=\"edge3\" class=\"edge\">\n<title>1&#45;&gt;3</title>\n<path fill=\"none\" stroke=\"#000000\" d=\"M216,-222.8796C216,-214.6838 216,-205.9891 216,-197.5013\"/>\n<polygon fill=\"#000000\" stroke=\"#000000\" points=\"219.5001,-197.298 216,-187.2981 212.5001,-197.2981 219.5001,-197.298\"/>\n</g>\n<!-- 4 -->\n<g id=\"node5\" class=\"node\">\n<title>4</title>\n<path fill=\"#95cbf1\" stroke=\"#000000\" d=\"M116,-68C116,-68 24,-68 24,-68 18,-68 12,-62 12,-56 12,-56 12,-12 12,-12 12,-6 18,0 24,0 24,0 116,0 116,0 122,0 128,-6 128,-12 128,-12 128,-56 128,-56 128,-62 122,-68 116,-68\"/>\n<text text-anchor=\"middle\" x=\"70\" y=\"-52.8\" font-family=\"Helvetica,sans-Serif\" font-size=\"14.00\" fill=\"#000000\">gini = 0.434</text>\n<text text-anchor=\"middle\" x=\"70\" y=\"-37.8\" font-family=\"Helvetica,sans-Serif\" font-size=\"14.00\" fill=\"#000000\">samples = 110</text>\n<text text-anchor=\"middle\" x=\"70\" y=\"-22.8\" font-family=\"Helvetica,sans-Serif\" font-size=\"14.00\" fill=\"#000000\">value = [35, 75]</text>\n<text text-anchor=\"middle\" x=\"70\" y=\"-7.8\" font-family=\"Helvetica,sans-Serif\" font-size=\"14.00\" fill=\"#000000\">class = sim</text>\n</g>\n<!-- 3&#45;&gt;4 -->\n<g id=\"edge4\" class=\"edge\">\n<title>3&#45;&gt;4</title>\n<path fill=\"none\" stroke=\"#000000\" d=\"M161.635,-103.9815C148.9989,-94.3313 135.5644,-84.0714 122.9885,-74.4673\"/>\n<polygon fill=\"#000000\" stroke=\"#000000\" points=\"124.9372,-71.5515 114.8654,-68.2637 120.6886,-77.1148 124.9372,-71.5515\"/>\n</g>\n<!-- 5 -->\n<g id=\"node6\" class=\"node\">\n<title>5</title>\n<path fill=\"#69b5eb\" stroke=\"#000000\" d=\"M274,-68C274,-68 158,-68 158,-68 152,-68 146,-62 146,-56 146,-56 146,-12 146,-12 146,-6 152,0 158,0 158,0 274,0 274,0 280,0 286,-6 286,-12 286,-12 286,-56 286,-56 286,-62 280,-68 274,-68\"/>\n<text text-anchor=\"middle\" x=\"216\" y=\"-52.8\" font-family=\"Helvetica,sans-Serif\" font-size=\"14.00\" fill=\"#000000\">gini = 0.314</text>\n<text text-anchor=\"middle\" x=\"216\" y=\"-37.8\" font-family=\"Helvetica,sans-Serif\" font-size=\"14.00\" fill=\"#000000\">samples = 2302</text>\n<text text-anchor=\"middle\" x=\"216\" y=\"-22.8\" font-family=\"Helvetica,sans-Serif\" font-size=\"14.00\" fill=\"#000000\">value = [449, 1853]</text>\n<text text-anchor=\"middle\" x=\"216\" y=\"-7.8\" font-family=\"Helvetica,sans-Serif\" font-size=\"14.00\" fill=\"#000000\">class = sim</text>\n</g>\n<!-- 3&#45;&gt;5 -->\n<g id=\"edge5\" class=\"edge\">\n<title>3&#45;&gt;5</title>\n<path fill=\"none\" stroke=\"#000000\" d=\"M216,-103.9815C216,-95.618 216,-86.7965 216,-78.3409\"/>\n<polygon fill=\"#000000\" stroke=\"#000000\" points=\"219.5001,-78.2636 216,-68.2637 212.5001,-78.2637 219.5001,-78.2636\"/>\n</g>\n<!-- 7 -->\n<g id=\"node8\" class=\"node\">\n<title>7</title>\n<path fill=\"#fcefe5\" stroke=\"#000000\" d=\"M523.5,-187C523.5,-187 398.5,-187 398.5,-187 392.5,-187 386.5,-181 386.5,-175 386.5,-175 386.5,-116 386.5,-116 386.5,-110 392.5,-104 398.5,-104 398.5,-104 523.5,-104 523.5,-104 529.5,-104 535.5,-110 535.5,-116 535.5,-116 535.5,-175 535.5,-175 535.5,-181 529.5,-187 523.5,-187\"/>\n<text text-anchor=\"middle\" x=\"461\" y=\"-171.8\" font-family=\"Helvetica,sans-Serif\" font-size=\"14.00\" fill=\"#000000\">preco &lt;= 99974.41</text>\n<text text-anchor=\"middle\" x=\"461\" y=\"-156.8\" font-family=\"Helvetica,sans-Serif\" font-size=\"14.00\" fill=\"#000000\">gini = 0.498</text>\n<text text-anchor=\"middle\" x=\"461\" y=\"-141.8\" font-family=\"Helvetica,sans-Serif\" font-size=\"14.00\" fill=\"#000000\">samples = 3513</text>\n<text text-anchor=\"middle\" x=\"461\" y=\"-126.8\" font-family=\"Helvetica,sans-Serif\" font-size=\"14.00\" fill=\"#000000\">value = [1879, 1634]</text>\n<text text-anchor=\"middle\" x=\"461\" y=\"-111.8\" font-family=\"Helvetica,sans-Serif\" font-size=\"14.00\" fill=\"#000000\">class = não</text>\n</g>\n<!-- 6&#45;&gt;7 -->\n<g id=\"edge7\" class=\"edge\">\n<title>6&#45;&gt;7</title>\n<path fill=\"none\" stroke=\"#000000\" d=\"M461,-222.8796C461,-214.6838 461,-205.9891 461,-197.5013\"/>\n<polygon fill=\"#000000\" stroke=\"#000000\" points=\"464.5001,-197.298 461,-187.2981 457.5001,-197.2981 464.5001,-197.298\"/>\n</g>\n<!-- 10 -->\n<g id=\"node11\" class=\"node\">\n<title>10</title>\n<path fill=\"#e9965a\" stroke=\"#000000\" d=\"M753.5,-187C753.5,-187 622.5,-187 622.5,-187 616.5,-187 610.5,-181 610.5,-175 610.5,-175 610.5,-116 610.5,-116 610.5,-110 616.5,-104 622.5,-104 622.5,-104 753.5,-104 753.5,-104 759.5,-104 765.5,-110 765.5,-116 765.5,-116 765.5,-175 765.5,-175 765.5,-181 759.5,-187 753.5,-187\"/>\n<text text-anchor=\"middle\" x=\"688\" y=\"-171.8\" font-family=\"Helvetica,sans-Serif\" font-size=\"14.00\" fill=\"#000000\">preco &lt;= 100076.957</text>\n<text text-anchor=\"middle\" x=\"688\" y=\"-156.8\" font-family=\"Helvetica,sans-Serif\" font-size=\"14.00\" fill=\"#000000\">gini = 0.243</text>\n<text text-anchor=\"middle\" x=\"688\" y=\"-141.8\" font-family=\"Helvetica,sans-Serif\" font-size=\"14.00\" fill=\"#000000\">samples = 2140</text>\n<text text-anchor=\"middle\" x=\"688\" y=\"-126.8\" font-family=\"Helvetica,sans-Serif\" font-size=\"14.00\" fill=\"#000000\">value = [1837, 303]</text>\n<text text-anchor=\"middle\" x=\"688\" y=\"-111.8\" font-family=\"Helvetica,sans-Serif\" font-size=\"14.00\" fill=\"#000000\">class = não</text>\n</g>\n<!-- 6&#45;&gt;10 -->\n<g id=\"edge10\" class=\"edge\">\n<title>6&#45;&gt;10</title>\n<path fill=\"none\" stroke=\"#000000\" d=\"M540.3936,-222.8796C560.0179,-212.592 581.1418,-201.5182 601.1025,-191.0542\"/>\n<polygon fill=\"#000000\" stroke=\"#000000\" points=\"602.9504,-194.0373 610.1822,-186.2944 599.7003,-187.8375 602.9504,-194.0373\"/>\n</g>\n<!-- 8 -->\n<g id=\"node9\" class=\"node\">\n<title>8</title>\n<path fill=\"#f9e0ce\" stroke=\"#000000\" d=\"M441.5,-68C441.5,-68 316.5,-68 316.5,-68 310.5,-68 304.5,-62 304.5,-56 304.5,-56 304.5,-12 304.5,-12 304.5,-6 310.5,0 316.5,0 316.5,0 441.5,0 441.5,0 447.5,0 453.5,-6 453.5,-12 453.5,-12 453.5,-56 453.5,-56 453.5,-62 447.5,-68 441.5,-68\"/>\n<text text-anchor=\"middle\" x=\"379\" y=\"-52.8\" font-family=\"Helvetica,sans-Serif\" font-size=\"14.00\" fill=\"#000000\">gini = 0.49</text>\n<text text-anchor=\"middle\" x=\"379\" y=\"-37.8\" font-family=\"Helvetica,sans-Serif\" font-size=\"14.00\" fill=\"#000000\">samples = 2944</text>\n<text text-anchor=\"middle\" x=\"379\" y=\"-22.8\" font-family=\"Helvetica,sans-Serif\" font-size=\"14.00\" fill=\"#000000\">value = [1682, 1262]</text>\n<text text-anchor=\"middle\" x=\"379\" y=\"-7.8\" font-family=\"Helvetica,sans-Serif\" font-size=\"14.00\" fill=\"#000000\">class = não</text>\n</g>\n<!-- 7&#45;&gt;8 -->\n<g id=\"edge8\" class=\"edge\">\n<title>7&#45;&gt;8</title>\n<path fill=\"none\" stroke=\"#000000\" d=\"M430.4662,-103.9815C423.8424,-94.9747 416.8279,-85.4367 410.1795,-76.3965\"/>\n<polygon fill=\"#000000\" stroke=\"#000000\" points=\"412.9426,-74.2461 404.1984,-68.2637 407.3034,-78.3933 412.9426,-74.2461\"/>\n</g>\n<!-- 9 -->\n<g id=\"node10\" class=\"node\">\n<title>9</title>\n<path fill=\"#a2d1f3\" stroke=\"#000000\" d=\"M592,-68C592,-68 484,-68 484,-68 478,-68 472,-62 472,-56 472,-56 472,-12 472,-12 472,-6 478,0 484,0 484,0 592,0 592,0 598,0 604,-6 604,-12 604,-12 604,-56 604,-56 604,-62 598,-68 592,-68\"/>\n<text text-anchor=\"middle\" x=\"538\" y=\"-52.8\" font-family=\"Helvetica,sans-Serif\" font-size=\"14.00\" fill=\"#000000\">gini = 0.453</text>\n<text text-anchor=\"middle\" x=\"538\" y=\"-37.8\" font-family=\"Helvetica,sans-Serif\" font-size=\"14.00\" fill=\"#000000\">samples = 569</text>\n<text text-anchor=\"middle\" x=\"538\" y=\"-22.8\" font-family=\"Helvetica,sans-Serif\" font-size=\"14.00\" fill=\"#000000\">value = [197, 372]</text>\n<text text-anchor=\"middle\" x=\"538\" y=\"-7.8\" font-family=\"Helvetica,sans-Serif\" font-size=\"14.00\" fill=\"#000000\">class = sim</text>\n</g>\n<!-- 7&#45;&gt;9 -->\n<g id=\"edge9\" class=\"edge\">\n<title>7&#45;&gt;9</title>\n<path fill=\"none\" stroke=\"#000000\" d=\"M489.672,-103.9815C495.8285,-95.0666 502.3443,-85.6313 508.5305,-76.6734\"/>\n<polygon fill=\"#000000\" stroke=\"#000000\" points=\"511.5355,-78.4811 514.3381,-68.2637 505.7755,-74.5034 511.5355,-78.4811\"/>\n</g>\n<!-- 11 -->\n<g id=\"node12\" class=\"node\">\n<title>11</title>\n<path fill=\"#e68742\" stroke=\"#000000\" d=\"M742,-68C742,-68 634,-68 634,-68 628,-68 622,-62 622,-56 622,-56 622,-12 622,-12 622,-6 628,0 634,0 634,0 742,0 742,0 748,0 754,-6 754,-12 754,-12 754,-56 754,-56 754,-62 748,-68 742,-68\"/>\n<text text-anchor=\"middle\" x=\"688\" y=\"-52.8\" font-family=\"Helvetica,sans-Serif\" font-size=\"14.00\" fill=\"#000000\">gini = 0.082</text>\n<text text-anchor=\"middle\" x=\"688\" y=\"-37.8\" font-family=\"Helvetica,sans-Serif\" font-size=\"14.00\" fill=\"#000000\">samples = 1809</text>\n<text text-anchor=\"middle\" x=\"688\" y=\"-22.8\" font-family=\"Helvetica,sans-Serif\" font-size=\"14.00\" fill=\"#000000\">value = [1732, 77]</text>\n<text text-anchor=\"middle\" x=\"688\" y=\"-7.8\" font-family=\"Helvetica,sans-Serif\" font-size=\"14.00\" fill=\"#000000\">class = não</text>\n</g>\n<!-- 10&#45;&gt;11 -->\n<g id=\"edge11\" class=\"edge\">\n<title>10&#45;&gt;11</title>\n<path fill=\"none\" stroke=\"#000000\" d=\"M688,-103.9815C688,-95.618 688,-86.7965 688,-78.3409\"/>\n<polygon fill=\"#000000\" stroke=\"#000000\" points=\"691.5001,-78.2636 688,-68.2637 684.5001,-78.2637 691.5001,-78.2636\"/>\n</g>\n<!-- 12 -->\n<g id=\"node13\" class=\"node\">\n<title>12</title>\n<path fill=\"#95cbf1\" stroke=\"#000000\" d=\"M892,-68C892,-68 784,-68 784,-68 778,-68 772,-62 772,-56 772,-56 772,-12 772,-12 772,-6 778,0 784,0 784,0 892,0 892,0 898,0 904,-6 904,-12 904,-12 904,-56 904,-56 904,-62 898,-68 892,-68\"/>\n<text text-anchor=\"middle\" x=\"838\" y=\"-52.8\" font-family=\"Helvetica,sans-Serif\" font-size=\"14.00\" fill=\"#000000\">gini = 0.433</text>\n<text text-anchor=\"middle\" x=\"838\" y=\"-37.8\" font-family=\"Helvetica,sans-Serif\" font-size=\"14.00\" fill=\"#000000\">samples = 331</text>\n<text text-anchor=\"middle\" x=\"838\" y=\"-22.8\" font-family=\"Helvetica,sans-Serif\" font-size=\"14.00\" fill=\"#000000\">value = [105, 226]</text>\n<text text-anchor=\"middle\" x=\"838\" y=\"-7.8\" font-family=\"Helvetica,sans-Serif\" font-size=\"14.00\" fill=\"#000000\">class = sim</text>\n</g>\n<!-- 10&#45;&gt;12 -->\n<g id=\"edge12\" class=\"edge\">\n<title>10&#45;&gt;12</title>\n<path fill=\"none\" stroke=\"#000000\" d=\"M743.8545,-103.9815C756.8368,-94.3313 770.6394,-84.0714 783.5597,-74.4673\"/>\n<polygon fill=\"#000000\" stroke=\"#000000\" points=\"785.9678,-77.0384 791.9054,-68.2637 781.7917,-71.4204 785.9678,-77.0384\"/>\n</g>\n</g>\n</svg>\n"
          },
          "metadata": {
            "tags": []
          },
          "execution_count": 18
        }
      ]
    },
    {
      "cell_type": "markdown",
      "metadata": {
        "id": "RW94piUBRaHK",
        "colab_type": "text"
      },
      "source": [
        "# 5 - Explorando Hiperparâmetros como o Randomsearch"
      ]
    },
    {
      "cell_type": "code",
      "metadata": {
        "id": "Zy6eP78xRaQe",
        "colab_type": "code",
        "outputId": "9ad12b3d-6ab2-4bd5-aa73-1bde73fe2e5c",
        "colab": {
          "base_uri": "https://localhost:8080/",
          "height": 51
        }
      },
      "source": [
        "from sklearn.model_selection import RandomizedSearchCV\n",
        "from scipy.stats import randint\n",
        "\n",
        "paramets = {\n",
        "    \"max_depth\" : [2, 3, 4, 5 , None],\n",
        "    \"min_samples_split\": randint(32,128),\n",
        "    \"min_samples_leaf\": randint(32,128),\n",
        "    \"criterion\": [\"gini\", \"entropy\"]\n",
        "\n",
        "}\n",
        "\n",
        "search = RandomizedSearchCV(DecisionTreeClassifier(),\n",
        "                    paramets,\n",
        "                    n_iter = 16,\n",
        "                    cv = KFold(n_splits = 10),\n",
        "                    random_state = SEED)\n",
        "\n",
        "search.fit(x, y)\n",
        "\n",
        "# nested cross validate\n",
        "from sklearn.model_selection import cross_val_score\n",
        "\n",
        "scores = cross_val_score(search, x, y, cv = KFold(n_splits = 10, shuffle=True) )\n",
        "\n",
        "media = scores.mean() * 100\n",
        "desvio = scores.std() * 100\n",
        "print(\"Accuracy média %.2f\" % media)\n",
        "print(\"Intervalo [%.2f, %.2f]\" % (media - 2 * desvio, media + 2 * desvio))"
      ],
      "execution_count": 19,
      "outputs": [
        {
          "output_type": "stream",
          "text": [
            "Accuracy média 78.69\n",
            "Intervalo [74.95, 82.43]\n"
          ],
          "name": "stdout"
        }
      ]
    },
    {
      "cell_type": "code",
      "metadata": {
        "id": "iC7sF6b6TkTJ",
        "colab_type": "code",
        "outputId": "599c2001-8490-42c1-b8b9-cf3d11985901",
        "colab": {
          "base_uri": "https://localhost:8080/",
          "height": 119
        }
      },
      "source": [
        "better = search.best_estimator_\n",
        "better"
      ],
      "execution_count": 20,
      "outputs": [
        {
          "output_type": "execute_result",
          "data": {
            "text/plain": [
              "DecisionTreeClassifier(class_weight=None, criterion='entropy', max_depth=3,\n",
              "                       max_features=None, max_leaf_nodes=None,\n",
              "                       min_impurity_decrease=0.0, min_impurity_split=None,\n",
              "                       min_samples_leaf=73, min_samples_split=72,\n",
              "                       min_weight_fraction_leaf=0.0, presort=False,\n",
              "                       random_state=None, splitter='best')"
            ]
          },
          "metadata": {
            "tags": []
          },
          "execution_count": 20
        }
      ]
    }
  ]
}